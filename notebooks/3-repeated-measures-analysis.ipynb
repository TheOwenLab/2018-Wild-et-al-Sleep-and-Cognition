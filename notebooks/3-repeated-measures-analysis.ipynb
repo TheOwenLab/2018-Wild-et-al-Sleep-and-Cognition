{
 "cells": [
  {
   "cell_type": "markdown",
   "metadata": {},
   "source": [
    "# Part 3 - Repeated Measures Analysis"
   ]
  },
  {
   "cell_type": "markdown",
   "metadata": {},
   "source": [
    "- Does the relationship between sleep duration and cognitive performance differ between domains?"
   ]
  },
  {
   "cell_type": "code",
   "execution_count": 1,
   "metadata": {},
   "outputs": [
    {
     "name": "stderr",
     "output_type": "stream",
     "text": [
      "/home/conor/.virtualenvs/cbs/lib/python3.5/site-packages/statsmodels/compat/pandas.py:56: FutureWarning: The pandas.core.datetools module is deprecated and will be removed in a future version. Please use the pandas.tseries module instead.\n",
      "  from pandas.core import datetools\n"
     ]
    }
   ],
   "source": [
    "# Import all required Python modules\n",
    "import pandas as pd\n",
    "import numpy as np\n",
    "import matplotlib.pyplot as plt\n",
    "import statsmodels.api as sm\n",
    "import statsmodels.formula.api as smf\n",
    "from statsmodels.sandbox.regression.predstd import wls_prediction_std\n",
    "from scipy import stats, linalg\n",
    "\n",
    "import sys\n",
    "sys.path.insert(0, '../lib')\n",
    "import sleep_study_utils as ss\n",
    "\n",
    "%matplotlib inline\n",
    "idx = pd.IndexSlice"
   ]
  },
  {
   "cell_type": "code",
   "execution_count": 2,
   "metadata": {
    "collapsed": true
   },
   "outputs": [],
   "source": [
    "# List of all columns in the data frame that have scores\n",
    "score_columns = ss.score_columns() + [score+\"_score\" for score in ss.COMPOSITE_SCORE_NAMES]\n",
    "domain_names  = [domain+\"_score\" for domain in ss.FACTOR_NAMES]"
   ]
  },
  {
   "cell_type": "code",
   "execution_count": 3,
   "metadata": {},
   "outputs": [],
   "source": [
    "# Load the final data sample (saved in Part 1)\n",
    "data = pd.read_pickle('../data/final_sample.pickle.bz2')"
   ]
  },
  {
   "cell_type": "code",
   "execution_count": 4,
   "metadata": {},
   "outputs": [],
   "source": [
    "# Shift (offset) continuous predictor variables so that regression \n",
    "# intercepts are interpretable. (mean centre variables)\n",
    "age_offset   = data.loc[:,'age_at_test'].mean()\n",
    "sleep_offset = data.loc[:,'typical_sleep_duration'].mean()\n",
    "data.loc[:,'age_at_test'] -= age_offset\n",
    "data.loc[:,'typical_sleep_duration'] -= sleep_offset\n",
    "data.loc[:,'prev_night_sleep_duration'] -= sleep_offset"
   ]
  },
  {
   "cell_type": "code",
   "execution_count": 5,
   "metadata": {},
   "outputs": [
    {
     "data": {
      "text/html": [
       "<div>\n",
       "<style scoped>\n",
       "    .dataframe tbody tr th:only-of-type {\n",
       "        vertical-align: middle;\n",
       "    }\n",
       "\n",
       "    .dataframe tbody tr th {\n",
       "        vertical-align: top;\n",
       "    }\n",
       "\n",
       "    .dataframe thead th {\n",
       "        text-align: right;\n",
       "    }\n",
       "</style>\n",
       "<table border=\"1\" class=\"dataframe\">\n",
       "  <thead>\n",
       "    <tr style=\"text-align: right;\">\n",
       "      <th></th>\n",
       "      <th>age_at_test</th>\n",
       "      <th>anxiety</th>\n",
       "      <th>depression</th>\n",
       "      <th>education</th>\n",
       "      <th>gender</th>\n",
       "      <th>prev_night_sleep_duration</th>\n",
       "      <th>score</th>\n",
       "      <th>score_type</th>\n",
       "      <th>subject</th>\n",
       "      <th>typical_sleep_duration</th>\n",
       "    </tr>\n",
       "  </thead>\n",
       "  <tbody>\n",
       "    <tr>\n",
       "      <th>(46640, STM)</th>\n",
       "      <td>-13.689142</td>\n",
       "      <td>Not during the past month</td>\n",
       "      <td>Not during the past month</td>\n",
       "      <td>High School Diploma</td>\n",
       "      <td>Male</td>\n",
       "      <td>1.590364</td>\n",
       "      <td>0.021625</td>\n",
       "      <td>STM</td>\n",
       "      <td>46640.0</td>\n",
       "      <td>0.590364</td>\n",
       "    </tr>\n",
       "    <tr>\n",
       "      <th>(23579, STM)</th>\n",
       "      <td>-15.689142</td>\n",
       "      <td>Not during the past month</td>\n",
       "      <td>Not during the past month</td>\n",
       "      <td>Bachelor's Degree</td>\n",
       "      <td>Male</td>\n",
       "      <td>0.840364</td>\n",
       "      <td>0.878897</td>\n",
       "      <td>STM</td>\n",
       "      <td>23579.0</td>\n",
       "      <td>0.590364</td>\n",
       "    </tr>\n",
       "    <tr>\n",
       "      <th>(29132, STM)</th>\n",
       "      <td>14.310858</td>\n",
       "      <td>Not during the past month</td>\n",
       "      <td>Not during the past month</td>\n",
       "      <td>Master's Degree</td>\n",
       "      <td>Female</td>\n",
       "      <td>1.090364</td>\n",
       "      <td>-0.184048</td>\n",
       "      <td>STM</td>\n",
       "      <td>29132.0</td>\n",
       "      <td>-0.409636</td>\n",
       "    </tr>\n",
       "    <tr>\n",
       "      <th>(56835, STM)</th>\n",
       "      <td>-9.689142</td>\n",
       "      <td>Less than once a week</td>\n",
       "      <td>Less than once a week</td>\n",
       "      <td>High School Diploma</td>\n",
       "      <td>Male</td>\n",
       "      <td>-1.659636</td>\n",
       "      <td>0.825750</td>\n",
       "      <td>STM</td>\n",
       "      <td>56835.0</td>\n",
       "      <td>-0.409636</td>\n",
       "    </tr>\n",
       "    <tr>\n",
       "      <th>(35801, STM)</th>\n",
       "      <td>14.310858</td>\n",
       "      <td>Not during the past month</td>\n",
       "      <td>Not during the past month</td>\n",
       "      <td>High School Diploma</td>\n",
       "      <td>Male</td>\n",
       "      <td>1.090364</td>\n",
       "      <td>-0.673336</td>\n",
       "      <td>STM</td>\n",
       "      <td>35801.0</td>\n",
       "      <td>-0.409636</td>\n",
       "    </tr>\n",
       "  </tbody>\n",
       "</table>\n",
       "</div>"
      ],
      "text/plain": [
       "              age_at_test                    anxiety  \\\n",
       "(46640, STM)   -13.689142  Not during the past month   \n",
       "(23579, STM)   -15.689142  Not during the past month   \n",
       "(29132, STM)    14.310858  Not during the past month   \n",
       "(56835, STM)    -9.689142      Less than once a week   \n",
       "(35801, STM)    14.310858  Not during the past month   \n",
       "\n",
       "                             depression            education  gender  \\\n",
       "(46640, STM)  Not during the past month  High School Diploma    Male   \n",
       "(23579, STM)  Not during the past month    Bachelor's Degree    Male   \n",
       "(29132, STM)  Not during the past month      Master's Degree  Female   \n",
       "(56835, STM)      Less than once a week  High School Diploma    Male   \n",
       "(35801, STM)  Not during the past month  High School Diploma    Male   \n",
       "\n",
       "              prev_night_sleep_duration     score score_type  subject  \\\n",
       "(46640, STM)                   1.590364  0.021625        STM  46640.0   \n",
       "(23579, STM)                   0.840364  0.878897        STM  23579.0   \n",
       "(29132, STM)                   1.090364 -0.184048        STM  29132.0   \n",
       "(56835, STM)                  -1.659636  0.825750        STM  56835.0   \n",
       "(35801, STM)                   1.090364 -0.673336        STM  35801.0   \n",
       "\n",
       "              typical_sleep_duration  \n",
       "(46640, STM)                0.590364  \n",
       "(23579, STM)                0.590364  \n",
       "(29132, STM)               -0.409636  \n",
       "(56835, STM)               -0.409636  \n",
       "(35801, STM)               -0.409636  "
      ]
     },
     "execution_count": 5,
     "metadata": {},
     "output_type": "execute_result"
    }
   ],
   "source": [
    "# Create a stacked dataframe, where every subject has three rows (one per domain)\n",
    "stacked_data = pd.DataFrame(columns = ss.QUESTIONNAIRE_ITEMS+['score'])\n",
    "sample_data  = data.sample(frac=1.0, replace=False)\n",
    "for score in domain_names:\n",
    "    sample_data['score_type'] = score[:-6]\n",
    "    score_data = sample_data[ss.QUESTIONNAIRE_ITEMS+[score,'score_type']].set_index('score_type', append=True).copy()\n",
    "    score_data.rename(columns={score:'score'}, inplace=True)\n",
    "    score_data['score_type'] = score_data.index.get_level_values('score_type') \n",
    "    score_data['subject'] = sample_data.index\n",
    "    stacked_data = pd.concat([stacked_data, score_data])\n",
    "stacked_data['score_type'] = stacked_data['score_type'].astype('category')\n",
    "stacked_data['subject'] = stacked_data['subject'].astype('category')\n",
    "stacked_data.head()"
   ]
  },
  {
   "cell_type": "code",
   "execution_count": 6,
   "metadata": {},
   "outputs": [
    {
     "data": {
      "text/plain": [
       "(32658, 10)"
      ]
     },
     "execution_count": 6,
     "metadata": {},
     "output_type": "execute_result"
    }
   ],
   "source": [
    "stacked_data.shape"
   ]
  },
  {
   "cell_type": "code",
   "execution_count": 7,
   "metadata": {},
   "outputs": [],
   "source": [
    "# Build all the  terms that will go into the fixed-effects regression formula\n",
    "# Include all interactions with cognitive domain, given that Hampshire et al. (2012)\n",
    "# show that these factors affect the domains differently.\n",
    "age_regressors   = set(['age_at_test'])\n",
    "sleep_regressors = set(['np.power(typical_sleep_duration, 2)', 'typical_sleep_duration'])\n",
    "other_covariates = set(['gender', 'education', 'anxiety', 'depression'])\n",
    "domain_regressor = set(['score_type'])\n",
    "age_by_sleep     = ss.build_interaction_terms(age_regressors, sleep_regressors)\n",
    "sleep_by_domain  = ss.build_interaction_terms(sleep_regressors, domain_regressor)\n",
    "age_by_domain    = ss.build_interaction_terms(age_regressors, domain_regressor)\n",
    "other_by_domain  = ss.build_interaction_terms(other_covariates, domain_regressor)\n",
    "mixed_fx_factors = age_regressors | sleep_regressors | domain_regressor | sleep_by_domain | age_by_domain | age_by_sleep | other_covariates | other_by_domain"
   ]
  },
  {
   "cell_type": "code",
   "execution_count": 8,
   "metadata": {},
   "outputs": [
    {
     "name": "stderr",
     "output_type": "stream",
     "text": [
      "/home/conor/.virtualenvs/cbs/lib/python3.5/site-packages/statsmodels/regression/mixed_linear_model.py:2019: ConvergenceWarning: The MLE may be on the boundary of the parameter space.\n",
      "  warnings.warn(msg, ConvergenceWarning)\n"
     ]
    }
   ],
   "source": [
    "# Fit the model, using a random-intercepts model grouping by subject\n",
    "# That is, each subject gets their own intercept.\n",
    "mixed_fx_model   = smf.mixedlm(ss.build_model_expression(mixed_fx_factors)%'score', stacked_data, groups=stacked_data[\"subject\"] )\n",
    "mixed_fx_result  = mixed_fx_model.fit(reml=False)"
   ]
  },
  {
   "cell_type": "code",
   "execution_count": 9,
   "metadata": {},
   "outputs": [
    {
     "data": {
      "text/html": [
       "<table class=\"simpletable\">\n",
       "<tr>\n",
       "       <td>Model:</td>       <td>MixedLM</td> <td>Dependent Variable:</td>    <td>score</td>   \n",
       "</tr>\n",
       "<tr>\n",
       "  <td>No. Observations:</td>  <td>32658</td>        <td>Method:</td>           <td>ML</td>     \n",
       "</tr>\n",
       "<tr>\n",
       "     <td>No. Groups:</td>     <td>10886</td>        <td>Scale:</td>          <td>0.8638</td>   \n",
       "</tr>\n",
       "<tr>\n",
       "  <td>Min. group size:</td>     <td>3</td>        <td>Likelihood:</td>     <td>-43948.3726</td>\n",
       "</tr>\n",
       "<tr>\n",
       "  <td>Max. group size:</td>     <td>3</td>        <td>Converged:</td>          <td>Yes</td>    \n",
       "</tr>\n",
       "<tr>\n",
       "  <td>Mean group size:</td>    <td>3.0</td>            <td></td>                <td></td>      \n",
       "</tr>\n",
       "</table>\n",
       "<table class=\"simpletable\">\n",
       "<tr>\n",
       "                                  <td></td>                                   <th>Coef.</th> <th>Std.Err.</th>    <th>z</th>    <th>P>|z|</th> <th>[0.025</th> <th>0.975]</th>\n",
       "</tr>\n",
       "<tr>\n",
       "  <th>Intercept</th>                                                          <td>0.041</td>   <td>0.043</td>   <td>0.964</td>  <td>0.335</td> <td>-0.043</td>  <td>0.125</td>\n",
       "</tr>\n",
       "<tr>\n",
       "  <th>education[T.Doctoral or Professional Degree]</th>                       <td>0.037</td>   <td>0.031</td>   <td>1.195</td>  <td>0.232</td> <td>-0.024</td>  <td>0.098</td>\n",
       "</tr>\n",
       "<tr>\n",
       "  <th>education[T.High School Diploma]</th>                                  <td>-0.116</td>   <td>0.023</td>  <td>-5.026</td>  <td>0.000</td> <td>-0.161</td> <td>-0.071</td>\n",
       "</tr>\n",
       "<tr>\n",
       "  <th>education[T.Master's Degree]</th>                                       <td>0.006</td>   <td>0.024</td>   <td>0.252</td>  <td>0.801</td> <td>-0.040</td>  <td>0.052</td>\n",
       "</tr>\n",
       "<tr>\n",
       "  <th>education[T.None]</th>                                                 <td>-0.127</td>   <td>0.062</td>  <td>-2.042</td>  <td>0.041</td> <td>-0.249</td> <td>-0.005</td>\n",
       "</tr>\n",
       "<tr>\n",
       "  <th>score_type[T.STM]</th>                                                 <td>-0.276</td>   <td>0.061</td>  <td>-4.544</td>  <td>0.000</td> <td>-0.395</td> <td>-0.157</td>\n",
       "</tr>\n",
       "<tr>\n",
       "  <th>score_type[T.Verbal]</th>                                               <td>0.107</td>   <td>0.061</td>   <td>1.758</td>  <td>0.079</td> <td>-0.012</td>  <td>0.226</td>\n",
       "</tr>\n",
       "<tr>\n",
       "  <th>depression[T.Less than once a week]</th>                               <td>-0.018</td>   <td>0.046</td>  <td>-0.395</td>  <td>0.693</td> <td>-0.107</td>  <td>0.071</td>\n",
       "</tr>\n",
       "<tr>\n",
       "  <th>depression[T.Not during the past month]</th>                           <td>-0.027</td>   <td>0.046</td>  <td>-0.587</td>  <td>0.558</td> <td>-0.116</td>  <td>0.063</td>\n",
       "</tr>\n",
       "<tr>\n",
       "  <th>depression[T.Once or twice a week]</th>                                <td>-0.019</td>   <td>0.046</td>  <td>-0.403</td>  <td>0.687</td> <td>-0.109</td>  <td>0.072</td>\n",
       "</tr>\n",
       "<tr>\n",
       "  <th>depression[T.Three or more times a week]</th>                          <td>-0.092</td>   <td>0.049</td>  <td>-1.889</td>  <td>0.059</td> <td>-0.188</td>  <td>0.003</td>\n",
       "</tr>\n",
       "<tr>\n",
       "  <th>gender[T.Male]</th>                                                     <td>0.014</td>   <td>0.019</td>   <td>0.740</td>  <td>0.459</td> <td>-0.023</td>  <td>0.051</td>\n",
       "</tr>\n",
       "<tr>\n",
       "  <th>gender[T.Other]</th>                                                    <td>0.177</td>   <td>0.108</td>   <td>1.647</td>  <td>0.100</td> <td>-0.034</td>  <td>0.389</td>\n",
       "</tr>\n",
       "<tr>\n",
       "  <th>anxiety[T.Less than once a week]</th>                                   <td>0.021</td>   <td>0.039</td>   <td>0.522</td>  <td>0.601</td> <td>-0.056</td>  <td>0.097</td>\n",
       "</tr>\n",
       "<tr>\n",
       "  <th>anxiety[T.Not during the past month]</th>                               <td>0.056</td>   <td>0.039</td>   <td>1.441</td>  <td>0.149</td> <td>-0.020</td>  <td>0.133</td>\n",
       "</tr>\n",
       "<tr>\n",
       "  <th>anxiety[T.Once or twice a week]</th>                                    <td>0.035</td>   <td>0.039</td>   <td>0.888</td>  <td>0.375</td> <td>-0.042</td>  <td>0.112</td>\n",
       "</tr>\n",
       "<tr>\n",
       "  <th>anxiety[T.Three or more times a week]</th>                              <td>0.045</td>   <td>0.041</td>   <td>1.105</td>  <td>0.269</td> <td>-0.035</td>  <td>0.124</td>\n",
       "</tr>\n",
       "<tr>\n",
       "  <th>depression[T.Less than once a week]:score_type[T.STM]</th>              <td>0.022</td>   <td>0.065</td>   <td>0.336</td>  <td>0.737</td> <td>-0.105</td>  <td>0.148</td>\n",
       "</tr>\n",
       "<tr>\n",
       "  <th>depression[T.Not during the past month]:score_type[T.STM]</th>          <td>0.045</td>   <td>0.065</td>   <td>0.700</td>  <td>0.484</td> <td>-0.081</td>  <td>0.172</td>\n",
       "</tr>\n",
       "<tr>\n",
       "  <th>depression[T.Once or twice a week]:score_type[T.STM]</th>               <td>0.032</td>   <td>0.065</td>   <td>0.490</td>  <td>0.624</td> <td>-0.096</td>  <td>0.159</td>\n",
       "</tr>\n",
       "<tr>\n",
       "  <th>depression[T.Three or more times a week]:score_type[T.STM]</th>         <td>0.101</td>   <td>0.069</td>   <td>1.462</td>  <td>0.144</td> <td>-0.034</td>  <td>0.236</td>\n",
       "</tr>\n",
       "<tr>\n",
       "  <th>depression[T.Less than once a week]:score_type[T.Verbal]</th>          <td>-0.010</td>   <td>0.065</td>  <td>-0.161</td>  <td>0.872</td> <td>-0.137</td>  <td>0.116</td>\n",
       "</tr>\n",
       "<tr>\n",
       "  <th>depression[T.Not during the past month]:score_type[T.Verbal]</th>      <td>-0.070</td>   <td>0.065</td>  <td>-1.080</td>  <td>0.280</td> <td>-0.196</td>  <td>0.057</td>\n",
       "</tr>\n",
       "<tr>\n",
       "  <th>depression[T.Once or twice a week]:score_type[T.Verbal]</th>           <td>-0.020</td>   <td>0.065</td>  <td>-0.302</td>  <td>0.763</td> <td>-0.147</td>  <td>0.108</td>\n",
       "</tr>\n",
       "<tr>\n",
       "  <th>depression[T.Three or more times a week]:score_type[T.Verbal]</th>      <td>0.082</td>   <td>0.069</td>   <td>1.192</td>  <td>0.233</td> <td>-0.053</td>  <td>0.217</td>\n",
       "</tr>\n",
       "<tr>\n",
       "  <th>anxiety[T.Less than once a week]:score_type[T.STM]</th>                 <td>0.156</td>   <td>0.055</td>   <td>2.804</td>  <td>0.005</td>  <td>0.047</td>  <td>0.264</td>\n",
       "</tr>\n",
       "<tr>\n",
       "  <th>anxiety[T.Not during the past month]:score_type[T.STM]</th>             <td>0.192</td>   <td>0.055</td>   <td>3.490</td>  <td>0.000</td>  <td>0.084</td>  <td>0.301</td>\n",
       "</tr>\n",
       "<tr>\n",
       "  <th>anxiety[T.Once or twice a week]:score_type[T.STM]</th>                  <td>0.135</td>   <td>0.055</td>   <td>2.440</td>  <td>0.015</td>  <td>0.027</td>  <td>0.244</td>\n",
       "</tr>\n",
       "<tr>\n",
       "  <th>anxiety[T.Three or more times a week]:score_type[T.STM]</th>            <td>0.005</td>   <td>0.057</td>   <td>0.083</td>  <td>0.934</td> <td>-0.108</td>  <td>0.117</td>\n",
       "</tr>\n",
       "<tr>\n",
       "  <th>anxiety[T.Less than once a week]:score_type[T.Verbal]</th>             <td>-0.115</td>   <td>0.055</td>  <td>-2.077</td>  <td>0.038</td> <td>-0.224</td> <td>-0.007</td>\n",
       "</tr>\n",
       "<tr>\n",
       "  <th>anxiety[T.Not during the past month]:score_type[T.Verbal]</th>         <td>-0.111</td>   <td>0.055</td>  <td>-2.008</td>  <td>0.045</td> <td>-0.219</td> <td>-0.003</td>\n",
       "</tr>\n",
       "<tr>\n",
       "  <th>anxiety[T.Once or twice a week]:score_type[T.Verbal]</th>              <td>-0.074</td>   <td>0.055</td>  <td>-1.337</td>  <td>0.181</td> <td>-0.183</td>  <td>0.035</td>\n",
       "</tr>\n",
       "<tr>\n",
       "  <th>anxiety[T.Three or more times a week]:score_type[T.Verbal]</th>        <td>-0.112</td>   <td>0.057</td>  <td>-1.953</td>  <td>0.051</td> <td>-0.225</td>  <td>0.000</td>\n",
       "</tr>\n",
       "<tr>\n",
       "  <th>education[T.Doctoral or Professional Degree]:score_type[T.STM]</th>    <td>-0.009</td>   <td>0.044</td>  <td>-0.213</td>  <td>0.831</td> <td>-0.095</td>  <td>0.076</td>\n",
       "</tr>\n",
       "<tr>\n",
       "  <th>education[T.High School Diploma]:score_type[T.STM]</th>                 <td>0.040</td>   <td>0.033</td>   <td>1.221</td>  <td>0.222</td> <td>-0.024</td>  <td>0.104</td>\n",
       "</tr>\n",
       "<tr>\n",
       "  <th>education[T.Master's Degree]:score_type[T.STM]</th>                    <td>-0.022</td>   <td>0.033</td>  <td>-0.662</td>  <td>0.508</td> <td>-0.088</td>  <td>0.043</td>\n",
       "</tr>\n",
       "<tr>\n",
       "  <th>education[T.None]:score_type[T.STM]</th>                                <td>0.003</td>   <td>0.088</td>   <td>0.037</td>  <td>0.970</td> <td>-0.169</td>  <td>0.176</td>\n",
       "</tr>\n",
       "<tr>\n",
       "  <th>education[T.Doctoral or Professional Degree]:score_type[T.Verbal]</th>  <td>0.075</td>   <td>0.044</td>   <td>1.707</td>  <td>0.088</td> <td>-0.011</td>  <td>0.160</td>\n",
       "</tr>\n",
       "<tr>\n",
       "  <th>education[T.High School Diploma]:score_type[T.Verbal]</th>             <td>-0.027</td>   <td>0.033</td>  <td>-0.827</td>  <td>0.408</td> <td>-0.091</td>  <td>0.037</td>\n",
       "</tr>\n",
       "<tr>\n",
       "  <th>education[T.Master's Degree]:score_type[T.Verbal]</th>                  <td>0.071</td>   <td>0.033</td>   <td>2.122</td>  <td>0.034</td>  <td>0.005</td>  <td>0.136</td>\n",
       "</tr>\n",
       "<tr>\n",
       "  <th>education[T.None]:score_type[T.Verbal]</th>                            <td>-0.237</td>   <td>0.088</td>  <td>-2.699</td>  <td>0.007</td> <td>-0.410</td> <td>-0.065</td>\n",
       "</tr>\n",
       "<tr>\n",
       "  <th>gender[T.Male]:score_type[T.STM]</th>                                   <td>0.210</td>   <td>0.026</td>   <td>7.918</td>  <td>0.000</td>  <td>0.158</td>  <td>0.262</td>\n",
       "</tr>\n",
       "<tr>\n",
       "  <th>gender[T.Other]:score_type[T.STM]</th>                                 <td>-0.253</td>   <td>0.152</td>  <td>-1.661</td>  <td>0.097</td> <td>-0.552</td>  <td>0.046</td>\n",
       "</tr>\n",
       "<tr>\n",
       "  <th>gender[T.Male]:score_type[T.Verbal]</th>                                <td>0.001</td>   <td>0.026</td>   <td>0.051</td>  <td>0.959</td> <td>-0.051</td>  <td>0.053</td>\n",
       "</tr>\n",
       "<tr>\n",
       "  <th>gender[T.Other]:score_type[T.Verbal]</th>                              <td>-0.134</td>   <td>0.152</td>  <td>-0.879</td>  <td>0.379</td> <td>-0.433</td>  <td>0.165</td>\n",
       "</tr>\n",
       "<tr>\n",
       "  <th>age_at_test:np.power(typical_sleep_duration, 2)</th>                    <td>0.000</td>   <td>0.000</td>   <td>0.372</td>  <td>0.710</td> <td>-0.000</td>  <td>0.000</td>\n",
       "</tr>\n",
       "<tr>\n",
       "  <th>age_at_test</th>                                                       <td>-0.022</td>   <td>0.001</td>  <td>-31.922</td> <td>0.000</td> <td>-0.023</td> <td>-0.021</td>\n",
       "</tr>\n",
       "<tr>\n",
       "  <th>age_at_test:score_type[T.STM]</th>                                     <td>-0.003</td>   <td>0.001</td>  <td>-3.361</td>  <td>0.001</td> <td>-0.005</td> <td>-0.001</td>\n",
       "</tr>\n",
       "<tr>\n",
       "  <th>age_at_test:score_type[T.Verbal]</th>                                   <td>0.009</td>   <td>0.001</td>   <td>9.966</td>  <td>0.000</td>  <td>0.007</td>  <td>0.011</td>\n",
       "</tr>\n",
       "<tr>\n",
       "  <th>np.power(typical_sleep_duration, 2)</th>                               <td>-0.020</td>   <td>0.003</td>  <td>-6.019</td>  <td>0.000</td> <td>-0.027</td> <td>-0.014</td>\n",
       "</tr>\n",
       "<tr>\n",
       "  <th>np.power(typical_sleep_duration, 2):score_type[T.STM]</th>              <td>0.014</td>   <td>0.005</td>   <td>3.114</td>  <td>0.002</td>  <td>0.005</td>  <td>0.024</td>\n",
       "</tr>\n",
       "<tr>\n",
       "  <th>np.power(typical_sleep_duration, 2):score_type[T.Verbal]</th>           <td>0.004</td>   <td>0.005</td>   <td>0.799</td>  <td>0.425</td> <td>-0.005</td>  <td>0.013</td>\n",
       "</tr>\n",
       "<tr>\n",
       "  <th>age_at_test:typical_sleep_duration</th>                                <td>-0.000</td>   <td>0.000</td>  <td>-0.039</td>  <td>0.969</td> <td>-0.001</td>  <td>0.001</td>\n",
       "</tr>\n",
       "<tr>\n",
       "  <th>typical_sleep_duration</th>                                             <td>0.029</td>   <td>0.007</td>   <td>3.915</td>  <td>0.000</td>  <td>0.014</td>  <td>0.043</td>\n",
       "</tr>\n",
       "<tr>\n",
       "  <th>typical_sleep_duration:score_type[T.STM]</th>                          <td>-0.013</td>   <td>0.010</td>  <td>-1.269</td>  <td>0.204</td> <td>-0.033</td>  <td>0.007</td>\n",
       "</tr>\n",
       "<tr>\n",
       "  <th>typical_sleep_duration:score_type[T.Verbal]</th>                        <td>0.010</td>   <td>0.010</td>   <td>0.980</td>  <td>0.327</td> <td>-0.010</td>  <td>0.030</td>\n",
       "</tr>\n",
       "<tr>\n",
       "  <th>groups RE</th>                                                          <td>0.000</td>   <td>0.005</td>     <td></td>       <td></td>       <td></td>       <td></td>   \n",
       "</tr>\n",
       "</table>"
      ],
      "text/plain": [
       "<class 'statsmodels.iolib.summary2.Summary'>\n",
       "\"\"\"\n",
       "                                    Mixed Linear Model Regression Results\n",
       "=============================================================================================================\n",
       "Model:                              MixedLM                  Dependent Variable:                  score      \n",
       "No. Observations:                   32658                    Method:                              ML         \n",
       "No. Groups:                         10886                    Scale:                               0.8638     \n",
       "Min. group size:                    3                        Likelihood:                          -43948.3726\n",
       "Max. group size:                    3                        Converged:                           Yes        \n",
       "Mean group size:                    3.0                                                                      \n",
       "-------------------------------------------------------------------------------------------------------------\n",
       "                                                                  Coef.  Std.Err.    z    P>|z| [0.025 0.975]\n",
       "-------------------------------------------------------------------------------------------------------------\n",
       "Intercept                                                          0.041    0.043   0.964 0.335 -0.043  0.125\n",
       "education[T.Doctoral or Professional Degree]                       0.037    0.031   1.195 0.232 -0.024  0.098\n",
       "education[T.High School Diploma]                                  -0.116    0.023  -5.026 0.000 -0.161 -0.071\n",
       "education[T.Master's Degree]                                       0.006    0.024   0.252 0.801 -0.040  0.052\n",
       "education[T.None]                                                 -0.127    0.062  -2.042 0.041 -0.249 -0.005\n",
       "score_type[T.STM]                                                 -0.276    0.061  -4.544 0.000 -0.395 -0.157\n",
       "score_type[T.Verbal]                                               0.107    0.061   1.758 0.079 -0.012  0.226\n",
       "depression[T.Less than once a week]                               -0.018    0.046  -0.395 0.693 -0.107  0.071\n",
       "depression[T.Not during the past month]                           -0.027    0.046  -0.587 0.558 -0.116  0.063\n",
       "depression[T.Once or twice a week]                                -0.019    0.046  -0.403 0.687 -0.109  0.072\n",
       "depression[T.Three or more times a week]                          -0.092    0.049  -1.889 0.059 -0.188  0.003\n",
       "gender[T.Male]                                                     0.014    0.019   0.740 0.459 -0.023  0.051\n",
       "gender[T.Other]                                                    0.177    0.108   1.647 0.100 -0.034  0.389\n",
       "anxiety[T.Less than once a week]                                   0.021    0.039   0.522 0.601 -0.056  0.097\n",
       "anxiety[T.Not during the past month]                               0.056    0.039   1.441 0.149 -0.020  0.133\n",
       "anxiety[T.Once or twice a week]                                    0.035    0.039   0.888 0.375 -0.042  0.112\n",
       "anxiety[T.Three or more times a week]                              0.045    0.041   1.105 0.269 -0.035  0.124\n",
       "depression[T.Less than once a week]:score_type[T.STM]              0.022    0.065   0.336 0.737 -0.105  0.148\n",
       "depression[T.Not during the past month]:score_type[T.STM]          0.045    0.065   0.700 0.484 -0.081  0.172\n",
       "depression[T.Once or twice a week]:score_type[T.STM]               0.032    0.065   0.490 0.624 -0.096  0.159\n",
       "depression[T.Three or more times a week]:score_type[T.STM]         0.101    0.069   1.462 0.144 -0.034  0.236\n",
       "depression[T.Less than once a week]:score_type[T.Verbal]          -0.010    0.065  -0.161 0.872 -0.137  0.116\n",
       "depression[T.Not during the past month]:score_type[T.Verbal]      -0.070    0.065  -1.080 0.280 -0.196  0.057\n",
       "depression[T.Once or twice a week]:score_type[T.Verbal]           -0.020    0.065  -0.302 0.763 -0.147  0.108\n",
       "depression[T.Three or more times a week]:score_type[T.Verbal]      0.082    0.069   1.192 0.233 -0.053  0.217\n",
       "anxiety[T.Less than once a week]:score_type[T.STM]                 0.156    0.055   2.804 0.005  0.047  0.264\n",
       "anxiety[T.Not during the past month]:score_type[T.STM]             0.192    0.055   3.490 0.000  0.084  0.301\n",
       "anxiety[T.Once or twice a week]:score_type[T.STM]                  0.135    0.055   2.440 0.015  0.027  0.244\n",
       "anxiety[T.Three or more times a week]:score_type[T.STM]            0.005    0.057   0.083 0.934 -0.108  0.117\n",
       "anxiety[T.Less than once a week]:score_type[T.Verbal]             -0.115    0.055  -2.077 0.038 -0.224 -0.007\n",
       "anxiety[T.Not during the past month]:score_type[T.Verbal]         -0.111    0.055  -2.008 0.045 -0.219 -0.003\n",
       "anxiety[T.Once or twice a week]:score_type[T.Verbal]              -0.074    0.055  -1.337 0.181 -0.183  0.035\n",
       "anxiety[T.Three or more times a week]:score_type[T.Verbal]        -0.112    0.057  -1.953 0.051 -0.225  0.000\n",
       "education[T.Doctoral or Professional Degree]:score_type[T.STM]    -0.009    0.044  -0.213 0.831 -0.095  0.076\n",
       "education[T.High School Diploma]:score_type[T.STM]                 0.040    0.033   1.221 0.222 -0.024  0.104\n",
       "education[T.Master's Degree]:score_type[T.STM]                    -0.022    0.033  -0.662 0.508 -0.088  0.043\n",
       "education[T.None]:score_type[T.STM]                                0.003    0.088   0.037 0.970 -0.169  0.176\n",
       "education[T.Doctoral or Professional Degree]:score_type[T.Verbal]  0.075    0.044   1.707 0.088 -0.011  0.160\n",
       "education[T.High School Diploma]:score_type[T.Verbal]             -0.027    0.033  -0.827 0.408 -0.091  0.037\n",
       "education[T.Master's Degree]:score_type[T.Verbal]                  0.071    0.033   2.122 0.034  0.005  0.136\n",
       "education[T.None]:score_type[T.Verbal]                            -0.237    0.088  -2.699 0.007 -0.410 -0.065\n",
       "gender[T.Male]:score_type[T.STM]                                   0.210    0.026   7.918 0.000  0.158  0.262\n",
       "gender[T.Other]:score_type[T.STM]                                 -0.253    0.152  -1.661 0.097 -0.552  0.046\n",
       "gender[T.Male]:score_type[T.Verbal]                                0.001    0.026   0.051 0.959 -0.051  0.053\n",
       "gender[T.Other]:score_type[T.Verbal]                              -0.134    0.152  -0.879 0.379 -0.433  0.165\n",
       "age_at_test:np.power(typical_sleep_duration, 2)                    0.000    0.000   0.372 0.710 -0.000  0.000\n",
       "age_at_test                                                       -0.022    0.001 -31.922 0.000 -0.023 -0.021\n",
       "age_at_test:score_type[T.STM]                                     -0.003    0.001  -3.361 0.001 -0.005 -0.001\n",
       "age_at_test:score_type[T.Verbal]                                   0.009    0.001   9.966 0.000  0.007  0.011\n",
       "np.power(typical_sleep_duration, 2)                               -0.020    0.003  -6.019 0.000 -0.027 -0.014\n",
       "np.power(typical_sleep_duration, 2):score_type[T.STM]              0.014    0.005   3.114 0.002  0.005  0.024\n",
       "np.power(typical_sleep_duration, 2):score_type[T.Verbal]           0.004    0.005   0.799 0.425 -0.005  0.013\n",
       "age_at_test:typical_sleep_duration                                -0.000    0.000  -0.039 0.969 -0.001  0.001\n",
       "typical_sleep_duration                                             0.029    0.007   3.915 0.000  0.014  0.043\n",
       "typical_sleep_duration:score_type[T.STM]                          -0.013    0.010  -1.269 0.204 -0.033  0.007\n",
       "typical_sleep_duration:score_type[T.Verbal]                        0.010    0.010   0.980 0.327 -0.010  0.030\n",
       "groups RE                                                          0.000    0.005                            \n",
       "=============================================================================================================\n",
       "\n",
       "\"\"\""
      ]
     },
     "execution_count": 9,
     "metadata": {},
     "output_type": "execute_result"
    }
   ],
   "source": [
    "mixed_fx_result.summary()"
   ]
  },
  {
   "cell_type": "code",
   "execution_count": 10,
   "metadata": {},
   "outputs": [
    {
     "data": {
      "text/plain": [
       "<class 'statsmodels.stats.contrast.ContrastResults'>\n",
       "<F test: F=array([[4.06334507]]), p=0.0027016143905193033, df_denom=32602, df_num=4>"
      ]
     },
     "execution_count": 10,
     "metadata": {},
     "output_type": "execute_result"
    }
   ],
   "source": [
    "# Test the overall interaction\n",
    "mixed_fx_result.f_test(\"\"\"\n",
    "    np.power(typical_sleep_duration, 2):score_type[T.STM] = \n",
    "    np.power(typical_sleep_duration, 2):score_type[T.Verbal] = \n",
    "    typical_sleep_duration:score_type[T.STM] = \n",
    "    typical_sleep_duration:score_type[T.Verbal] = 0\n",
    "\"\"\")"
   ]
  },
  {
   "cell_type": "code",
   "execution_count": 11,
   "metadata": {},
   "outputs": [
    {
     "data": {
      "text/plain": [
       "<class 'statsmodels.stats.contrast.ContrastResults'>\n",
       "<F test: F=array([[5.90354059]]), p=0.002732681712589975, df_denom=32602, df_num=2>"
      ]
     },
     "execution_count": 11,
     "metadata": {},
     "output_type": "execute_result"
    }
   ],
   "source": [
    "# Contrast STM to Reasoning (baseline)\n",
    "mixed_fx_result.f_test(\"\"\"\n",
    "    np.power(typical_sleep_duration, 2):score_type[T.STM] = \n",
    "    typical_sleep_duration:score_type[T.STM] = 0\n",
    "\"\"\")"
   ]
  },
  {
   "cell_type": "code",
   "execution_count": 12,
   "metadata": {},
   "outputs": [
    {
     "data": {
      "text/plain": [
       "<class 'statsmodels.stats.contrast.ContrastResults'>\n",
       "<F test: F=array([[0.75617251]]), p=0.4694680811257468, df_denom=32602, df_num=2>"
      ]
     },
     "execution_count": 12,
     "metadata": {},
     "output_type": "execute_result"
    }
   ],
   "source": [
    "# Contrast Verbal to Reasoning (baseline)\n",
    "mixed_fx_result.f_test(\"\"\"\n",
    "    np.power(typical_sleep_duration, 2):score_type[T.Verbal] = \n",
    "    typical_sleep_duration:score_type[T.Verbal] = 0\n",
    "\"\"\")"
   ]
  },
  {
   "cell_type": "code",
   "execution_count": 13,
   "metadata": {},
   "outputs": [
    {
     "data": {
      "text/plain": [
       "<class 'statsmodels.stats.contrast.ContrastResults'>\n",
       "<F test: F=array([[5.53032211]]), p=0.00396843207043223, df_denom=32602, df_num=2>"
      ]
     },
     "execution_count": 13,
     "metadata": {},
     "output_type": "execute_result"
    }
   ],
   "source": [
    "# Contrast Verbal and STM\n",
    "mixed_fx_result.f_test(\"\"\"\n",
    "    np.power(typical_sleep_duration, 2):score_type[T.STM] - np.power(typical_sleep_duration, 2):score_type[T.Verbal] = \n",
    "    typical_sleep_duration:score_type[T.STM] - typical_sleep_duration:score_type[T.Verbal] = 0\n",
    "\"\"\")"
   ]
  }
 ],
 "metadata": {
  "kernelspec": {
   "display_name": "Python 3",
   "language": "python",
   "name": "python3"
  },
  "language_info": {
   "codemirror_mode": {
    "name": "ipython",
    "version": 3
   },
   "file_extension": ".py",
   "mimetype": "text/x-python",
   "name": "python",
   "nbconvert_exporter": "python",
   "pygments_lexer": "ipython3",
   "version": "3.5.2"
  }
 },
 "nbformat": 4,
 "nbformat_minor": 2
}
